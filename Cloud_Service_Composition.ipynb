{
  "cells": [
    {
      "cell_type": "markdown",
      "metadata": {
        "id": "view-in-github",
        "colab_type": "text"
      },
      "source": [
        "<a href=\"https://colab.research.google.com/github/Ankit52790/Cloud-Service-Composition/blob/main/Cloud_Service_Composition.ipynb\" target=\"_parent\"><img src=\"https://colab.research.google.com/assets/colab-badge.svg\" alt=\"Open In Colab\"/></a>"
      ]
    },
    {
      "cell_type": "markdown",
      "source": [
        "# Summary\n",
        "\n",
        "\n",
        "* Data Generation:\n",
        "Creates random data for hotels, car rentals, and restaurants.\n",
        "Preferences Definition: Sets different weights for attributes according to the needs of different income classes.\n",
        "* Normalization: Uses Z-scores to normalize data attributes.\n",
        "* Genetic Algorithm:\n",
        "* Population Initialization:\n",
        " Creates an initial population.\n",
        "* Fitness Function: Evaluates how well an individual meets user preferences.\n",
        "* Selection: Chooses the top-performing individuals.\n",
        "* Crossover: Combines attributes of two parents to create a child.\n",
        "* Mutation: Randomly alters an attribute of an individual.\n",
        "* Execution: Runs the genetic algorithm for a set number of generations to find the best combination of services.\n",
        "\n",
        "# Output:\n",
        "Finds and prints the best services for each income class.\n",
        "This structured approach ensures that the solution considers both negative (price) and positive (facilities) factors, thereby satisfying the needs of lower families, middle-class families, and rich familie"
      ],
      "metadata": {
        "id": "dwcyMvTHwmJ4"
      }
    },
    {
      "cell_type": "markdown",
      "source": [
        "# 1.Importing Important Libraries"
      ],
      "metadata": {
        "id": "DqecvN4IxQLG"
      }
    },
    {
      "cell_type": "code",
      "execution_count": 134,
      "metadata": {
        "id": "gNncELlUXsp2"
      },
      "outputs": [],
      "source": [
        "import random\n",
        "import numpy as np\n",
        "\n",
        "import matplotlib.pyplot as plt\n",
        "import seaborn as sns\n",
        "\n",
        "# Ensuring reproducibility\n",
        "random.seed(42)\n"
      ]
    },
    {
      "cell_type": "code",
      "source": [
        "# Sample data\n",
        "hotels = [\n",
        "    {'id': 'H1', 'price': 120, 'rating': 4.5, 'distance': 5, 'reservations': 300, 'service_quality': 4.8},\n",
        "    {'id': 'H2', 'price': 150, 'rating': 4.7, 'distance': 3, 'reservations': 250, 'service_quality': 4.7},\n",
        "    {'id': 'H3', 'price': 100, 'rating': 4.0, 'distance': 7, 'reservations': 200, 'service_quality': 4.5},\n",
        "    {'id': 'H4', 'price': 200, 'rating': 4.9, 'distance': 2, 'reservations': 350, 'service_quality': 4.9},\n",
        "    {'id': 'H5', 'price': 90, 'rating': 3.5, 'distance': 8, 'reservations': 150, 'service_quality': 4.0},\n",
        "    {'id': 'H6', 'price': 110, 'rating': 4.1, 'distance': 6, 'reservations': 270, 'service_quality': 4.6},\n",
        "    {'id': 'H7', 'price': 130, 'rating': 4.3, 'distance': 4, 'reservations': 290, 'service_quality': 4.7},\n",
        "    {'id': 'H8', 'price': 140, 'rating': 4.4, 'distance': 3, 'reservations': 310, 'service_quality': 4.8},\n",
        "    {'id': 'H9', 'price': 160, 'rating': 4.6, 'distance': 2, 'reservations': 330, 'service_quality': 4.9},\n",
        "    {'id': 'H10', 'price': 170, 'rating': 4.8, 'distance': 1, 'reservations': 340, 'service_quality': 4.9},\n",
        "    {'id': 'H11', 'price': 105, 'rating': 4.2, 'distance': 5, 'reservations': 310, 'service_quality': 4.6},\n",
        "    {'id': 'H12', 'price': 125, 'rating': 4.4, 'distance': 4, 'reservations': 320, 'service_quality': 4.7},\n",
        "    {'id': 'H13', 'price': 180, 'rating': 4.8, 'distance': 2, 'reservations': 350, 'service_quality': 4.9},\n",
        "    {'id': 'H14', 'price': 115, 'rating': 4.1, 'distance': 6, 'reservations': 260, 'service_quality': 4.5},\n",
        "    {'id': 'H15', 'price': 135, 'rating': 4.3, 'distance': 3, 'reservations': 280, 'service_quality': 4.7},\n",
        "    {'id': 'H16', 'price': 95, 'rating': 3.7, 'distance': 7, 'reservations': 180, 'service_quality': 4.2},\n",
        "    {'id': 'H17', 'price': 145, 'rating': 4.5, 'distance': 3, 'reservations': 310, 'service_quality': 4.8},\n",
        "    {'id': 'H18', 'price': 165, 'rating': 4.7, 'distance': 2, 'reservations': 340, 'service_quality': 4.9},\n",
        "    {'id': 'H19', 'price': 85, 'rating': 3.6, 'distance': 8, 'reservations': 170, 'service_quality': 4.1},\n",
        "    {'id': 'H20', 'price': 155, 'rating': 4.6, 'distance': 2, 'reservations': 330, 'service_quality': 4.8},\n",
        "]\n",
        "\n",
        "car_rentals = [\n",
        "    {'id': 'C1', 'price': 50, 'rating': 4.2, 'type': 'SUV', 'availability': 10, 'condition': 4.5},\n",
        "    {'id': 'C2', 'price': 60, 'rating': 4.5, 'type': 'Sedan', 'availability': 15, 'condition': 4.7},\n",
        "    {'id': 'C3', 'price': 40, 'rating': 3.8, 'type': 'Compact', 'availability': 5, 'condition': 4.0},\n",
        "    {'id': 'C4', 'price': 70, 'rating': 4.6, 'type': 'SUV', 'availability': 12, 'condition': 4.6},\n",
        "    {'id': 'C5', 'price': 55, 'rating': 4.1, 'type': 'Convertible', 'availability': 7, 'condition': 4.3},\n",
        "    {'id': 'C6', 'price': 65, 'rating': 4.3, 'type': 'Sedan', 'availability': 14, 'condition': 4.5},\n",
        "    {'id': 'C7', 'price': 75, 'rating': 4.7, 'type': 'Truck', 'availability': 9, 'condition': 4.8},\n",
        "    {'id': 'C8', 'price': 45, 'rating': 3.9, 'type': 'Compact', 'availability': 6, 'condition': 4.2},\n",
        "    {'id': 'C9', 'price': 80, 'rating': 4.4, 'type': 'SUV', 'availability': 13, 'condition': 4.7},\n",
        "    {'id': 'C10', 'price': 85, 'rating': 4.8, 'type': 'Luxury', 'availability': 8, 'condition': 4.9},\n",
        "    {'id': 'C11', 'price': 52, 'rating': 4.1, 'type': 'SUV', 'availability': 11, 'condition': 4.4},\n",
        "    {'id': 'C12', 'price': 68, 'rating': 4.4, 'type': 'Sedan', 'availability': 16, 'condition': 4.6},\n",
        "    {'id': 'C13', 'price': 35, 'rating': 3.7, 'type': 'Compact', 'availability': 4, 'condition': 3.9},\n",
        "    {'id': 'C14', 'price': 72, 'rating': 4.5, 'type': 'SUV', 'availability': 13, 'condition': 4.7},\n",
        "    {'id': 'C15', 'price': 58, 'rating': 4.0, 'type': 'Convertible', 'availability': 8, 'condition': 4.2},\n",
        "    {'id': 'C16', 'price': 62, 'rating': 4.3, 'type': 'Sedan', 'availability': 14, 'condition': 4.4},\n",
        "    {'id': 'C17', 'price': 78, 'rating': 4.6, 'type': 'Truck', 'availability': 10, 'condition': 4.8},\n",
        "    {'id': 'C18', 'price': 48, 'rating': 3.9, 'type': 'Compact', 'availability': 5, 'condition': 4.1},\n",
        "    {'id': 'C19', 'price': 82, 'rating': 4.5, 'type': 'SUV', 'availability': 12, 'condition': 4.7},\n",
        "    {'id': 'C20', 'price': 90, 'rating': 4.9, 'type': 'Luxury', 'availability': 9, 'condition': 4.9},\n",
        "]\n",
        "\n",
        "restaurants = [\n",
        "    {'id': 'R1', 'price': 30, 'rating': 4.6, 'cuisine': 'Italian', 'reviews': 150, 'cleanliness': 4.8},\n",
        "    {'id': 'R2', 'price': 25, 'rating': 4.3, 'cuisine': 'Mexican', 'reviews': 120, 'cleanliness': 4.5},\n",
        "    {'id': 'R3', 'price': 35, 'rating': 4.8, 'cuisine': 'French', 'reviews': 200, 'cleanliness': 4.9},\n",
        "    {'id': 'R4', 'price': 40, 'rating': 4.7, 'cuisine': 'Japanese', 'reviews': 180, 'cleanliness': 4.7},\n",
        "    {'id': 'R5', 'price': 20, 'rating': 4.0, 'cuisine': 'Chinese', 'reviews': 100, 'cleanliness': 4.2},\n",
        "    {'id': 'R6', 'price': 45, 'rating': 4.9, 'cuisine': 'Indian', 'reviews': 250, 'cleanliness': 4.9},\n",
        "    {'id': 'R7', 'price': 50, 'rating': 5.0, 'cuisine': 'American', 'reviews': 300, 'cleanliness': 5.0},\n",
        "    {'id': 'R8', 'price': 28, 'rating': 4.4, 'cuisine': 'Mexican', 'reviews': 130, 'cleanliness': 4.6},\n",
        "    {'id': 'R9', 'price': 33, 'rating': 4.5, 'cuisine': 'Italian', 'reviews': 160, 'cleanliness': 4.7},\n",
        "    {'id': 'R10', 'price': 38, 'rating': 4.6, 'cuisine': 'Thai', 'reviews': 170, 'cleanliness': 4.8},\n",
        "    {'id': 'R11', 'price': 32, 'rating': 4.5, 'cuisine': 'Italian', 'reviews': 155, 'cleanliness': 4.7},\n",
        "    {'id': 'R12', 'price': 29, 'rating': 4.3, 'cuisine': 'Mexican', 'reviews': 125, 'cleanliness': 4.5},\n",
        "    {'id': 'R13', 'price': 36, 'rating': 4.7, 'cuisine': 'French', 'reviews': 210, 'cleanliness': 4.9},\n",
        "    {'id': 'R14', 'price': 42, 'rating': 4.8, 'cuisine': 'Japanese', 'reviews': 185, 'cleanliness': 4.8},\n",
        "    {'id': 'R15', 'price': 22, 'rating': 4.1, 'cuisine': 'Chinese', 'reviews': 110, 'cleanliness': 4.3},\n",
        "    {'id': 'R16', 'price': 48, 'rating': 4.9, 'cuisine': 'Indian', 'reviews': 255, 'cleanliness': 4.9},\n",
        "    {'id': 'R17', 'price': 52, 'rating': 5.0, 'cuisine': 'American', 'reviews': 305, 'cleanliness': 5.0},\n",
        "    {'id': 'R18', 'price': 27, 'rating': 4.4, 'cuisine': 'Mexican', 'reviews': 135, 'cleanliness': 4.6},\n",
        "    {'id': 'R19', 'price': 34, 'rating': 4.6, 'cuisine': 'Italian', 'reviews': 165, 'cleanliness': 4.8},\n",
        "    {'id': 'R20', 'price': 39, 'rating': 4.7, 'cuisine': 'Thai', 'reviews': 175, 'cleanliness': 4.9},\n",
        "]\n",
        "\n",
        "\n"
      ],
      "metadata": {
        "id": "Wa68QiqnnRbT"
      },
      "execution_count": 135,
      "outputs": []
    },
    {
      "cell_type": "markdown",
      "source": [
        "#  2.Defining User Preferences"
      ],
      "metadata": {
        "id": "xgV7g5WcqraO"
      }
    },
    {
      "cell_type": "markdown",
      "source": [
        "Explanation:\n",
        "\n",
        "* This dictionary defines the preferences for different income classes, specifying the weight of each attribute (price, rating, etc.) in the fitness function"
      ],
      "metadata": {
        "id": "OtNvGGaMucEQ"
      }
    },
    {
      "cell_type": "code",
      "execution_count": 136,
      "metadata": {
        "id": "r2Y0MVsiVRma"
      },
      "outputs": [],
      "source": [
        "# Define user preferences for different income classes\n",
        "preferences = {\n",
        "    'lower_family': {\n",
        "        'price_weight': 0.5,\n",
        "        'rating_weight': 0.2,\n",
        "        'distance_weight': 0.1,\n",
        "        'reservation_weight': 0.1,\n",
        "        'service_quality_weight': 0.1,\n",
        "        'availability_weight': 0.1,\n",
        "        'condition_weight': 0.1,\n",
        "        'review_weight': 0.1,\n",
        "        'cleanliness_weight': 0.1\n",
        "    },\n",
        "    'middle_class': {\n",
        "        'price_weight': 0.3,\n",
        "        'rating_weight': 0.3,\n",
        "        'distance_weight': 0.1,\n",
        "        'reservation_weight': 0.1,\n",
        "        'service_quality_weight': 0.2,\n",
        "        'availability_weight': 0.2,\n",
        "        'condition_weight': 0.2,\n",
        "        'review_weight': 0.2,\n",
        "        'cleanliness_weight': 0.2\n",
        "    },\n",
        "    'rich_family': {\n",
        "        'price_weight': 0.1,\n",
        "        'rating_weight': 0.4,\n",
        "        'distance_weight': 0.1,\n",
        "        'reservation_weight': 0.1,\n",
        "        'service_quality_weight': 0.3,\n",
        "        'availability_weight': 0.3,\n",
        "        'condition_weight': 0.3,\n",
        "        'review_weight': 0.3,\n",
        "        'cleanliness_weight': 0.3\n",
        "    }\n",
        "}\n"
      ]
    },
    {
      "cell_type": "code",
      "execution_count": 136,
      "metadata": {
        "id": "2DZMw0nNXMls"
      },
      "outputs": [],
      "source": []
    },
    {
      "cell_type": "code",
      "source": [
        "# Genetic Algorithm parameters\n",
        "POPULATION_SIZE = 20\n",
        "GENERATIONS = 50\n",
        "MUTATION_RATE = 0.1"
      ],
      "metadata": {
        "id": "fgAIZcXWjN-7"
      },
      "execution_count": 137,
      "outputs": []
    },
    {
      "cell_type": "markdown",
      "source": [
        "# 3.Normalizing Data (Z-scores)"
      ],
      "metadata": {
        "id": "CT-bnRXsq_wD"
      }
    },
    {
      "cell_type": "markdown",
      "source": [
        "Explanation:\n",
        "\n",
        "* This step normalizes the data using Z-scores, which makes different attributes comparable by converting them into the same scale.\n",
        "* It calculates the mean and standard deviation for each attribute and then scales the attributes accordingly."
      ],
      "metadata": {
        "id": "o4-1ZYSfu5u5"
      }
    },
    {
      "cell_type": "code",
      "source": [
        "\n",
        "def calculate_z_scores(data, attributes):\n",
        "    means = {attr: np.mean([item[attr] for item in data]) for attr in attributes}\n",
        "    std_devs = {attr: np.std([item[attr] for item in data]) for attr in attributes}\n",
        "\n",
        "    for item in data:\n",
        "        for attr in attributes:\n",
        "            item[f'{attr}_z'] = (item[attr] - means[attr]) / std_devs[attr]\n",
        "\n",
        "    return data"
      ],
      "metadata": {
        "id": "pyi7W_VFn0vP"
      },
      "execution_count": 138,
      "outputs": []
    },
    {
      "cell_type": "markdown",
      "source": [
        "Normalize Data"
      ],
      "metadata": {
        "id": "EMRW5sROvC2O"
      }
    },
    {
      "cell_type": "code",
      "source": [
        "\n",
        "def normalize_data():\n",
        "    global hotels, car_rentals, restaurants\n",
        "\n",
        "    hotel_attrs = ['price', 'rating', 'distance', 'reservations', 'service_quality']\n",
        "    car_attrs = ['price', 'rating', 'availability', 'condition']\n",
        "    restaurant_attrs = ['price', 'rating', 'reviews', 'cleanliness']\n",
        "\n",
        "    hotels = calculate_z_scores(hotels, hotel_attrs)\n",
        "    car_rentals = calculate_z_scores(car_rentals, car_attrs)\n",
        "    restaurants = calculate_z_scores(restaurants, restaurant_attrs)\n",
        "\n",
        "normalize_data()"
      ],
      "metadata": {
        "id": "HChdoUJ6n404"
      },
      "execution_count": 139,
      "outputs": []
    },
    {
      "cell_type": "markdown",
      "source": [
        "# 4.Genetic Algorithm Setup"
      ],
      "metadata": {
        "id": "AfKUr0jurWSM"
      }
    },
    {
      "cell_type": "markdown",
      "source": [
        "Explanation:\n",
        "\n",
        "* Population Initialization: This function creates an initial population by randomly selecting individuals from the options."
      ],
      "metadata": {
        "id": "DSkTXAe3vRCm"
      }
    },
    {
      "cell_type": "code",
      "source": [
        "# Genetic Algorithm Functions\n",
        "\n",
        "def initialize_population(options):\n",
        "    return [random.choice(options) for _ in range(POPULATION_SIZE)]"
      ],
      "metadata": {
        "id": "YFWpzhcqs4p5"
      },
      "execution_count": 140,
      "outputs": []
    },
    {
      "cell_type": "markdown",
      "source": [
        " **Fitness Function:**\n",
        "  This calculates the fitness of an individual based on user preferences. Higher fitness indicates a better match to the user’s preferences."
      ],
      "metadata": {
        "id": "NRn7SMF9vbUe"
      }
    },
    {
      "cell_type": "code",
      "source": [
        "# Fitness Function\n",
        "def fitness(individual, preferences):\n",
        "    price_score = (1 / (1 + abs(individual['price_z']))) * preferences['price_weight']\n",
        "\n",
        "    rating_score = individual['rating_z'] * preferences['rating_weight']\n",
        "\n",
        "    distance_score = (1 / (1 + abs(individual['distance_z']))) * preferences['distance_weight'] if 'distance_z' in individual else 0\n",
        "\n",
        "    reservation_score = (1 / (1 + abs(individual['reservations_z']))) * preferences['reservation_weight'] if 'reservations_z' in individual else 0\n",
        "\n",
        "    service_quality_score = individual['service_quality_z'] * preferences['service_quality_weight'] if 'service_quality_z' in individual else 0\n",
        "\n",
        "    availability_score = individual['availability_z'] * preferences['availability_weight'] if 'availability_z' in individual else 0\n",
        "\n",
        "    condition_score = individual['condition_z'] * preferences['condition_weight'] if 'condition_z' in individual else 0\n",
        "\n",
        "    review_score = (1 / (1 + abs(individual['reviews_z']))) * preferences['review_weight'] if 'reviews_z' in individual else 0\n",
        "\n",
        "    cleanliness_score = individual['cleanliness_z'] * preferences['cleanliness_weight'] if 'cleanliness_z' in individual else 0\n",
        "\n",
        "    return (price_score + rating_score + distance_score + reservation_score +\n",
        "            service_quality_score + availability_score + condition_score +\n",
        "            review_score + cleanliness_score)"
      ],
      "metadata": {
        "id": "vfNOmZlRtAX7"
      },
      "execution_count": 141,
      "outputs": []
    },
    {
      "cell_type": "markdown",
      "source": [
        " **Selection**"
      ],
      "metadata": {
        "id": "dUXaOElhtZjs"
      }
    },
    {
      "cell_type": "markdown",
      "source": [
        "Explanation:\n",
        "\n",
        "* Selection: This function selects the top half of the population based on their fitness scores for the next generation."
      ],
      "metadata": {
        "id": "_1Y-EAjevhms"
      }
    },
    {
      "cell_type": "code",
      "source": [
        "def selection(population, preferences):\n",
        "    sorted_population = sorted(population, key=lambda x: fitness(x, preferences), reverse=True)\n",
        "    return sorted_population[:POPULATION_SIZE // 2]\n"
      ],
      "metadata": {
        "id": "DHlZDNiPsA3x"
      },
      "execution_count": 142,
      "outputs": []
    },
    {
      "cell_type": "markdown",
      "source": [
        "**Crossover**\n",
        "\n",
        "Explanation:\n",
        "This function combines attributes from two parents to create a new individual (child). It randomly selects attributes from either parent."
      ],
      "metadata": {
        "id": "wmXLExdPtgX9"
      }
    },
    {
      "cell_type": "code",
      "source": [
        "def crossover(parent1, parent2):\n",
        "    child = parent1.copy()\n",
        "    for key in parent1.keys():\n",
        "        if '_z' not in key and random.random() > 0.5:\n",
        "            child[key] = parent2[key]\n",
        "    return child\n"
      ],
      "metadata": {
        "id": "pa7IaAEitcFS"
      },
      "execution_count": 143,
      "outputs": []
    },
    {
      "cell_type": "markdown",
      "source": [
        "**Mutation**\n",
        "\n",
        "Explanation:\n",
        "\n",
        "* This function randomly changes one attribute of an individual with a certain probability (MUTATION_RATE). After mutation, it normalizes the data again."
      ],
      "metadata": {
        "id": "oL74n7nutnUi"
      }
    },
    {
      "cell_type": "code",
      "source": [
        "def mutate(individual):\n",
        "    if random.random() < MUTATION_RATE:\n",
        "        mutation_key = random.choice([key for key in individual.keys() if '_z' not in key])\n",
        "        if mutation_key == 'price':\n",
        "            individual[mutation_key] = random.uniform(50, 150)\n",
        "        elif mutation_key == 'rating':\n",
        "            individual[mutation_key] = random.uniform(3.0, 5.0)\n",
        "        elif mutation_key == 'distance':\n",
        "            individual[mutation_key] = random.uniform(1, 10)\n",
        "        elif mutation_key == 'reservations':\n",
        "            individual[mutation_key] = random.uniform(100, 400)\n",
        "        elif mutation_key == 'service_quality':\n",
        "            individual[mutation_key] = random.uniform(3.0, 5.0)\n",
        "        elif mutation_key == 'availability':\n",
        "            individual[mutation_key] = random.uniform(5, 20)\n",
        "        elif mutation_key == 'condition':\n",
        "            individual[mutation_key] = random.uniform(3.0, 5.0)\n",
        "        elif mutation_key == 'reviews':\n",
        "            individual[mutation_key] = random.uniform(100, 400)\n",
        "        elif mutation_key == 'cleanliness':\n",
        "            individual[mutation_key] = random.uniform(3.0, 5.0)\n",
        "        # Recalculate z-scores after mutation\n",
        "        normalize_data()\n",
        "    return individual\n"
      ],
      "metadata": {
        "id": "H_4ZBwiYti4a"
      },
      "execution_count": 144,
      "outputs": []
    },
    {
      "cell_type": "markdown",
      "source": [
        "# 5.Genetic Algorithm Execution"
      ],
      "metadata": {
        "id": "2jKCZzLhtvXt"
      }
    },
    {
      "cell_type": "markdown",
      "source": [
        "Explanation:\n",
        "\n",
        "* This function runs the genetic algorithm for a set number of generations. It includes initializing the population, selection, crossover, mutation, and updating the population until it finds the best individual."
      ],
      "metadata": {
        "id": "SqO-RtrawK6B"
      }
    },
    {
      "cell_type": "code",
      "source": [
        "def genetic_algorithm(options, preferences):\n",
        "    population = initialize_population(options)\n",
        "    for _ in range(GENERATIONS):\n",
        "        selected = selection(population, preferences)\n",
        "        children = []\n",
        "        while len(children) < POPULATION_SIZE:\n",
        "            parent1, parent2 = random.sample(selected, 2)\n",
        "            child = crossover(parent1, parent2)\n",
        "            child = mutate(child)\n",
        "            children.append(child)\n",
        "        population = children\n",
        "    best_individual = max(population, key=lambda x: fitness(x, preferences))\n",
        "    return best_individual\n"
      ],
      "metadata": {
        "id": "6ripJWpvtqk0"
      },
      "execution_count": 145,
      "outputs": []
    },
    {
      "cell_type": "markdown",
      "source": [
        "# 6.Finding the Best Services"
      ],
      "metadata": {
        "id": "Qi4cXE-Vt1rY"
      }
    },
    {
      "cell_type": "markdown",
      "source": [
        "Explanation:\n",
        "\n",
        "* This function finds the best services for lower family, middle class, and rich family by running the genetic algorithm for hotels, car rentals, and restaurants based on their respective preferences.\n",
        "It prints out the best services found for each family type."
      ],
      "metadata": {
        "id": "-CHPR6qcwSdK"
      }
    },
    {
      "cell_type": "code",
      "source": [
        "def find_best_services():\n",
        "    lower_family_best_services = {\n",
        "        'hotel': genetic_algorithm(hotels, preferences['lower_family']),\n",
        "        'car_rental': genetic_algorithm(car_rentals, preferences['lower_family']),\n",
        "        'restaurant': genetic_algorithm(restaurants, preferences['lower_family'])\n",
        "    }\n",
        "    middle_class_best_services = {\n",
        "        'hotel': genetic_algorithm(hotels, preferences['middle_class']),\n",
        "        'car_rental': genetic_algorithm(car_rentals, preferences['middle_class']),\n",
        "        'restaurant': genetic_algorithm(restaurants, preferences['middle_class'])\n",
        "    }\n",
        "    rich_family_best_services = {\n",
        "        'hotel': genetic_algorithm(hotels, preferences['rich_family']),\n",
        "        'car_rental': genetic_algorithm(car_rentals, preferences['rich_family']),\n",
        "        'restaurant': genetic_algorithm(restaurants, preferences['rich_family'])\n",
        "    }"
      ],
      "metadata": {
        "id": "mOfCADUUtyvJ"
      },
      "execution_count": 146,
      "outputs": []
    },
    {
      "cell_type": "code",
      "source": [
        "print(\"Lower Family Best Services:\", lower_family_best_services)\n",
        "find_best_services()"
      ],
      "metadata": {
        "colab": {
          "base_uri": "https://localhost:8080/"
        },
        "id": "_Yopk2BfyzRn",
        "outputId": "8a766303-3ad8-43d8-ea8b-5b5b87dcd921"
      },
      "execution_count": 147,
      "outputs": [
        {
          "output_type": "stream",
          "name": "stdout",
          "text": [
            "Lower Family Best Services: {'Best Hotel': {'id': 'H17', 'price': 74.39622232018348, 'rating': 3.612894541563306, 'distance': 3, 'reservations': 280, 'service_quality': 4.140067529246332, 'price_z': 1.165608413034304, 'rating_z': 1.1800548221807818, 'distance_z': -1.4643245382504961, 'reservations_z': 0.9566217308933612, 'service_quality_z': 0.9483040522636017}, 'Best Car Rental': {'id': 'C6', 'price': 119.78758233627835, 'rating': 4.132881389189288, 'type': 'Sedan', 'availability': 5.056380498248148, 'condition': 4.553082151846631, 'price_z': 0.2955350287233336, 'rating_z': 0.2714836398330423, 'availability_z': 1.7142276593693493, 'condition_z': 0.3612644264172887}, 'Best Restaurant': {'id': 'R3', 'price': 138.00059338806216, 'rating': 4.8, 'cuisine': 'French', 'reviews': 305.9890329832407, 'cleanliness': 4.101868848083014, 'price_z': -0.0282729643226657, 'rating_z': 0.7673233000039628, 'reviews_z': 0.3639673252890175, 'cleanliness_z': 0.8170525881974269}}\n"
          ]
        }
      ]
    },
    {
      "cell_type": "code",
      "source": [
        "print(\"Middle Class Best Services:\", middle_class_best_services)\n",
        "find_best_services()\n",
        ""
      ],
      "metadata": {
        "colab": {
          "base_uri": "https://localhost:8080/"
        },
        "id": "xT8fkSqLt4WL",
        "outputId": "13fe12f2-76cd-4c7b-fd28-558cd77ffb90"
      },
      "execution_count": 148,
      "outputs": [
        {
          "output_type": "stream",
          "name": "stdout",
          "text": [
            "Middle Class Best Services: {'Best Hotel': {'id': 'H13', 'price': 180, 'rating': 4.7, 'distance': 2.921944555282908, 'reservations': 350, 'service_quality': 3.8283386821210104, 'price_z': 2.130249858304073, 'rating_z': 1.4338300527572954, 'distance_z': -0.999459605472561, 'reservations_z': 1.1215565120818718, 'service_quality_z': 0.9483040522636017}, 'Best Car Rental': {'id': 'C12', 'price': 74.01433821403035, 'rating': 3.376400203595506, 'type': 'SUV', 'availability': 16.891261512822844, 'condition': 3.763060074277093, 'price_z': 1.7403729469262978, 'rating_z': 1.7797260833499462, 'availability_z': -0.3025107634181207, 'condition_z': 1.3934485018952631}, 'Best Restaurant': {'id': 'R20', 'price': 148.40528388809452, 'rating': 4.378455963913256, 'cuisine': 'Indian', 'reviews': 185, 'cleanliness': 4.083180227423074, 'price_z': -0.0282729643226657, 'rating_z': 0.7673233000039628, 'reviews_z': 0.3639673252890175, 'cleanliness_z': 0.8170525881974269}}\n"
          ]
        }
      ]
    },
    {
      "cell_type": "code",
      "source": [
        "print(\"Rich Family Best Services:\", rich_family_best_services)\n",
        "find_best_services()"
      ],
      "metadata": {
        "colab": {
          "base_uri": "https://localhost:8080/"
        },
        "id": "5lwHKDe9ycpq",
        "outputId": "12001fc8-7172-4210-bc74-ff8faad0e68c"
      },
      "execution_count": 149,
      "outputs": [
        {
          "output_type": "stream",
          "name": "stdout",
          "text": [
            "Rich Family Best Services: {'Best Hotel': {'id': 'H20', 'price': 109.43818301250069, 'rating': 4.6, 'distance': 2, 'reservations': 330, 'service_quality': 4.8, 'price_z': 1.165608413034304, 'rating_z': 1.1800548221807818, 'distance_z': -1.4643245382504961, 'reservations_z': 0.9566217308933612, 'service_quality_z': 0.9483040522636017}, 'Best Car Rental': {'id': 'C2', 'price': 95.27797494078658, 'rating': 4.0884999619970195, 'type': 'Sedan', 'availability': 8.990508866835189, 'condition': 4.5422091492877135, 'price_z': -0.22986057789592612, 'rating_z': 0.573132128536422, 'availability_z': 1.4261221703997107, 'condition_z': 0.7053257849099479}, 'Best Restaurant': {'id': 'R20', 'price': 117.67255165728794, 'rating': 4.6, 'cuisine': 'Italian', 'reviews': 175, 'cleanliness': 4.039190281832424, 'price_z': 1.8942886096186018, 'rating_z': 1.4981073952458328, 'reviews_z': 2.183803951734105, 'cleanliness_z': 1.2839397814530957}}\n"
          ]
        }
      ]
    },
    {
      "cell_type": "code",
      "source": [],
      "metadata": {
        "id": "-eHpdTF90nwe"
      },
      "execution_count": 149,
      "outputs": []
    },
    {
      "cell_type": "code",
      "source": [],
      "metadata": {
        "id": "8g072Vwd1o4I"
      },
      "execution_count": 149,
      "outputs": []
    }
  ],
  "metadata": {
    "colab": {
      "provenance": [],
      "authorship_tag": "ABX9TyPQecxIWbicHL4R4IM7bbhd",
      "include_colab_link": true
    },
    "kernelspec": {
      "display_name": "Python 3",
      "name": "python3"
    },
    "language_info": {
      "name": "python"
    }
  },
  "nbformat": 4,
  "nbformat_minor": 0
}